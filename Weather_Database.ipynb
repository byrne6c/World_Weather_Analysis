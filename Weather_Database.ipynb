{
 "cells": [
  {
   "cell_type": "code",
   "execution_count": 1,
   "id": "23379171",
   "metadata": {},
   "outputs": [],
   "source": [
    "# Import the dependencies.\n",
    "import pandas as pd\n",
    "import matplotlib.pyplot as plt\n",
    "import numpy as np"
   ]
  },
  {
   "cell_type": "code",
   "execution_count": 2,
   "id": "392f56dd",
   "metadata": {},
   "outputs": [
    {
     "data": {
      "text/plain": [
       "<zip at 0x7fce8ab4cdc0>"
      ]
     },
     "execution_count": 2,
     "metadata": {},
     "output_type": "execute_result"
    }
   ],
   "source": [
    "# Create a set of random latitude and longitude combinations.\n",
    "lats = np.random.uniform(low=-90.000, high=90.000, size=2000)\n",
    "lngs = np.random.uniform(low=-180.000, high=180.000, size=2000)\n",
    "lat_lngs = zip(lats, lngs)\n",
    "lat_lngs"
   ]
  },
  {
   "cell_type": "code",
   "execution_count": 3,
   "id": "8d25a724",
   "metadata": {},
   "outputs": [],
   "source": [
    "# Add the latitudes and longitudes to a list.\n",
    "coordinates = list(lat_lngs)"
   ]
  },
  {
   "cell_type": "code",
   "execution_count": 4,
   "id": "7777b372",
   "metadata": {},
   "outputs": [],
   "source": [
    "# Use the citipy module to determine city based on latitude and longitude.\n",
    "from citipy import citipy"
   ]
  },
  {
   "cell_type": "code",
   "execution_count": 5,
   "id": "bc4ca357",
   "metadata": {},
   "outputs": [
    {
     "data": {
      "text/plain": [
       "778"
      ]
     },
     "execution_count": 5,
     "metadata": {},
     "output_type": "execute_result"
    }
   ],
   "source": [
    "# Create a list for holding the cities.\n",
    "cities = []\n",
    "# Identify the nearest city for each latitude and longitude combination.\n",
    "for coordinate in coordinates:\n",
    "    city = citipy.nearest_city(coordinate[0], coordinate[1]).city_name\n",
    "\n",
    "    # If the city is unique, then we will add it to the cities list.\n",
    "    if city not in cities:\n",
    "        cities.append(city)\n",
    "# Print the city count to confirm sufficient count.\n",
    "len(cities)"
   ]
  },
  {
   "cell_type": "code",
   "execution_count": 6,
   "id": "7adec12e",
   "metadata": {},
   "outputs": [],
   "source": [
    "# Import the requests library.\n",
    "import requests\n",
    "\n",
    "# Import the API key.\n",
    "from config import weather_api_key"
   ]
  },
  {
   "cell_type": "code",
   "execution_count": 7,
   "id": "466f62f8",
   "metadata": {},
   "outputs": [],
   "source": [
    "# Starting URL for Weather Map API Call.\n",
    "url = \"http://api.openweathermap.org/data/2.5/weather?units=Imperial&APPID=\"+weather_api_key"
   ]
  },
  {
   "cell_type": "code",
   "execution_count": 8,
   "id": "ca22ddf1",
   "metadata": {},
   "outputs": [
    {
     "name": "stdout",
     "output_type": "stream",
     "text": [
      "Beginning Data Retrieval     \n",
      "-----------------------------\n",
      "Processing Record 1 of Set 1 | saint-joseph\n",
      "City not found. Skipping...\n",
      "Processing Record 2 of Set 1 | bluff\n",
      "City not found. Skipping...\n",
      "Processing Record 3 of Set 1 | noumea\n",
      "City not found. Skipping...\n",
      "Processing Record 4 of Set 1 | punta arenas\n",
      "City not found. Skipping...\n",
      "Processing Record 5 of Set 1 | santo antonio do sudoeste\n",
      "City not found. Skipping...\n",
      "Processing Record 6 of Set 1 | hobart\n",
      "City not found. Skipping...\n",
      "Processing Record 7 of Set 1 | rikitea\n",
      "City not found. Skipping...\n",
      "Processing Record 8 of Set 1 | ushuaia\n",
      "City not found. Skipping...\n",
      "Processing Record 9 of Set 1 | port macquarie\n",
      "City not found. Skipping...\n",
      "Processing Record 10 of Set 1 | westport\n",
      "City not found. Skipping...\n",
      "Processing Record 11 of Set 1 | illoqqortoormiut\n",
      "City not found. Skipping...\n",
      "Processing Record 12 of Set 1 | narsaq\n",
      "City not found. Skipping...\n",
      "Processing Record 13 of Set 1 | qaanaaq\n",
      "City not found. Skipping...\n",
      "Processing Record 14 of Set 1 | butaritari\n",
      "City not found. Skipping...\n",
      "Processing Record 15 of Set 1 | mataura\n",
      "City not found. Skipping...\n",
      "Processing Record 16 of Set 1 | atuona\n",
      "City not found. Skipping...\n",
      "Processing Record 17 of Set 1 | sao filipe\n",
      "City not found. Skipping...\n",
      "Processing Record 18 of Set 1 | castro\n",
      "City not found. Skipping...\n",
      "Processing Record 19 of Set 1 | nouadhibou\n",
      "City not found. Skipping...\n",
      "Processing Record 20 of Set 1 | rio grande\n",
      "City not found. Skipping...\n",
      "Processing Record 21 of Set 1 | acapulco\n",
      "City not found. Skipping...\n",
      "Processing Record 22 of Set 1 | fuyu\n",
      "City not found. Skipping...\n",
      "Processing Record 23 of Set 1 | mar del plata\n",
      "City not found. Skipping...\n",
      "Processing Record 24 of Set 1 | cape town\n",
      "City not found. Skipping...\n",
      "Processing Record 25 of Set 1 | nagato\n",
      "City not found. Skipping...\n",
      "Processing Record 26 of Set 1 | hilo\n",
      "City not found. Skipping...\n",
      "Processing Record 27 of Set 1 | keningau\n",
      "City not found. Skipping...\n",
      "Processing Record 28 of Set 1 | bethel\n",
      "City not found. Skipping...\n",
      "Processing Record 29 of Set 1 | barrow\n",
      "City not found. Skipping...\n",
      "Processing Record 30 of Set 1 | avarua\n",
      "City not found. Skipping...\n",
      "Processing Record 31 of Set 1 | saint-philippe\n",
      "City not found. Skipping...\n",
      "Processing Record 32 of Set 1 | abong mbang\n",
      "City not found. Skipping...\n",
      "Processing Record 33 of Set 1 | dikson\n",
      "City not found. Skipping...\n",
      "Processing Record 34 of Set 1 | clyde river\n",
      "City not found. Skipping...\n",
      "Processing Record 35 of Set 1 | navalmoral de la mata\n",
      "City not found. Skipping...\n",
      "Processing Record 36 of Set 1 | tuktoyaktuk\n",
      "City not found. Skipping...\n",
      "Processing Record 37 of Set 1 | vardo\n",
      "City not found. Skipping...\n",
      "Processing Record 38 of Set 1 | ouesso\n",
      "City not found. Skipping...\n",
      "Processing Record 39 of Set 1 | ust-kuyga\n",
      "City not found. Skipping...\n",
      "Processing Record 40 of Set 1 | ilulissat\n",
      "City not found. Skipping...\n",
      "Processing Record 41 of Set 1 | new norfolk\n",
      "City not found. Skipping...\n",
      "Processing Record 42 of Set 1 | seydi\n",
      "City not found. Skipping...\n",
      "Processing Record 43 of Set 1 | rawson\n",
      "City not found. Skipping...\n",
      "Processing Record 44 of Set 1 | huilong\n",
      "City not found. Skipping...\n",
      "Processing Record 45 of Set 1 | bredasdorp\n",
      "City not found. Skipping...\n",
      "Processing Record 46 of Set 1 | jamestown\n",
      "City not found. Skipping...\n",
      "Processing Record 47 of Set 1 | bathsheba\n",
      "City not found. Skipping...\n",
      "Processing Record 48 of Set 1 | ponta do sol\n",
      "City not found. Skipping...\n",
      "Processing Record 49 of Set 1 | bom jesus da lapa\n",
      "City not found. Skipping...\n",
      "Processing Record 50 of Set 1 | college\n",
      "City not found. Skipping...\n"
     ]
    },
    {
     "ename": "NameError",
     "evalue": "name 'time' is not defined",
     "output_type": "error",
     "traceback": [
      "\u001b[0;31m---------------------------------------------------------------------------\u001b[0m",
      "\u001b[0;31mNameError\u001b[0m                                 Traceback (most recent call last)",
      "\u001b[0;32m<ipython-input-8-d638b564f062>\u001b[0m in \u001b[0;36m<module>\u001b[0;34m\u001b[0m\n\u001b[1;32m     17\u001b[0m             \u001b[0mset_count\u001b[0m \u001b[0;34m+=\u001b[0m \u001b[0;36m1\u001b[0m\u001b[0;34m\u001b[0m\u001b[0;34m\u001b[0m\u001b[0m\n\u001b[1;32m     18\u001b[0m             \u001b[0mrecord_count\u001b[0m \u001b[0;34m=\u001b[0m \u001b[0;36m1\u001b[0m\u001b[0;34m\u001b[0m\u001b[0;34m\u001b[0m\u001b[0m\n\u001b[0;32m---> 19\u001b[0;31m             \u001b[0mtime\u001b[0m\u001b[0;34m.\u001b[0m\u001b[0msleep\u001b[0m\u001b[0;34m(\u001b[0m\u001b[0;36m60\u001b[0m\u001b[0;34m)\u001b[0m\u001b[0;34m\u001b[0m\u001b[0;34m\u001b[0m\u001b[0m\n\u001b[0m\u001b[1;32m     20\u001b[0m \u001b[0;34m\u001b[0m\u001b[0m\n\u001b[1;32m     21\u001b[0m     \u001b[0;31m# Create endpoint URL with each city.\u001b[0m\u001b[0;34m\u001b[0m\u001b[0;34m\u001b[0m\u001b[0;34m\u001b[0m\u001b[0m\n",
      "\u001b[0;31mNameError\u001b[0m: name 'time' is not defined"
     ]
    }
   ],
   "source": [
    "# Create an empty list to hold the weather data.\n",
    "city_data = []\n",
    "# Print the beginning of the logging.\n",
    "print(\"Beginning Data Retrieval     \")\n",
    "print(\"-----------------------------\")\n",
    "\n",
    "# Create counters (set at 1 for the 1st iteration of logging for each recorded response.\n",
    "record_count = 1\n",
    "set_count = 1\n",
    "\n",
    "# use the enumerate() method as an alt way to iterate through the list of cities and retrieve both city & its index from the list.\n",
    "# Loop through all the cities in the list.\n",
    "for i, city in enumerate(cities):\n",
    "\n",
    "    # Group cities in sets of 50 for logging purposes.\n",
    "    if (i % 50 == 0 and i >= 50):\n",
    "            set_count += 1\n",
    "            record_count = 1\n",
    "            time.sleep(60)\n",
    "\n",
    "    # Create endpoint URL with each city.\n",
    "    city_url = url + \"&q=\" + city.replace(\" \",\"+\")\n",
    "\n",
    "    # Log the URL, record, and set numbers and the city.\n",
    "    print(f\"Processing Record {record_count} of Set {set_count} | {city}\")\n",
    "    # Add 1 to the record count.\n",
    "    record_count += 1\n",
    " \n",
    "    # Run an API request for each of the cities. Include try-except.\n",
    "    try:\n",
    "        # Parse the JSON and retrieve data.\n",
    "        city_weather = requests.get(city_url).json()\n",
    "        # Parse out the needed data.\n",
    "        city_lat = city_weather[\"coord\"][\"lat\"]\n",
    "        city_lng = city_weather[\"coord\"][\"lon\"]\n",
    "        city_max_temp = city_weather[\"main\"][\"temp_max\"]\n",
    "        city_humidity = city_weather[\"main\"][\"humidity\"]\n",
    "        city_clouds = city_weather[\"clouds\"][\"all\"]\n",
    "        city_wind = city_weather[\"wind\"][\"speed\"]\n",
    "        city_country = city_weather[\"sys\"][\"country\"]\n",
    "        city_description = city_weather[\"weather\"][\"description\"]\n",
    "        # Append the city information into city_data list.\n",
    "        city_data.append({\"City\": city.title(),\n",
    "                          \"Lat\": city_lat,\n",
    "                          \"Lng\": city_lng,\n",
    "                          \"Max Temp\": city_max_temp,\n",
    "                          \"Humidity\": city_humidity,\n",
    "                          \"Cloudiness\": city_clouds,\n",
    "                          \"Wind Speed\": city_wind,\n",
    "                          \"Country\": city_country,\n",
    "                          \"Current Description\": city_description}) \n",
    "\n",
    "# If an error is experienced, skip the city.\n",
    "    except:\n",
    "        print(\"City not found. Skipping...\")\n",
    "        pass\n",
    "\n",
    "# Indicate that Data Loading is complete.\n",
    "print(\"-----------------------------\")\n",
    "print(\"Data Retrieval Complete      \")\n",
    "print(\"-----------------------------\")"
   ]
  },
  {
   "cell_type": "code",
   "execution_count": null,
   "id": "59a60a93",
   "metadata": {},
   "outputs": [],
   "source": []
  },
  {
   "cell_type": "code",
   "execution_count": null,
   "id": "e6bf5cb4",
   "metadata": {},
   "outputs": [],
   "source": []
  },
  {
   "cell_type": "code",
   "execution_count": null,
   "id": "84db2c1a",
   "metadata": {},
   "outputs": [],
   "source": []
  },
  {
   "cell_type": "code",
   "execution_count": null,
   "id": "c540f06f",
   "metadata": {},
   "outputs": [],
   "source": []
  },
  {
   "cell_type": "code",
   "execution_count": null,
   "id": "636db586",
   "metadata": {},
   "outputs": [],
   "source": []
  }
 ],
 "metadata": {
  "kernelspec": {
   "display_name": "Python 3",
   "language": "python",
   "name": "python3"
  },
  "language_info": {
   "codemirror_mode": {
    "name": "ipython",
    "version": 3
   },
   "file_extension": ".py",
   "mimetype": "text/x-python",
   "name": "python",
   "nbconvert_exporter": "python",
   "pygments_lexer": "ipython3",
   "version": "3.8.8"
  }
 },
 "nbformat": 4,
 "nbformat_minor": 5
}
